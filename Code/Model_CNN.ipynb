{
 "cells": [
  {
   "cell_type": "code",
   "execution_count": null,
   "metadata": {},
   "outputs": [],
   "source": []
  },
  {
   "cell_type": "markdown",
   "metadata": {},
   "source": [
    "# Model: CNN\n",
    "\n",
    "**Neural Network**\n",
    "- 2 Hidden Layers, 2 Dropouts\n",
    "\n",
    "**Compiler**\n",
    "\n",
    "- loss function: binary crossentropy\n",
    "- optimizer: adam\n",
    "\n",
    "**Fit**\n",
    "\n",
    "- 7 Epochs\n",
    "\n",
    "**Metrics**\n",
    "- Recall for train: .96 \n",
    "- Recall for val: .875\n",
    "\n"
   ]
  },
  {
   "cell_type": "code",
   "execution_count": 23,
   "metadata": {},
   "outputs": [
    {
     "name": "stdout",
     "output_type": "stream",
     "text": [
      "Model: \"sequential_2\"\n",
      "_________________________________________________________________\n",
      "Layer (type)                 Output Shape              Param #   \n",
      "=================================================================\n",
      "conv2d_6 (Conv2D)            (None, 254, 254, 16)      448       \n",
      "_________________________________________________________________\n",
      "max_pooling2d_4 (MaxPooling2 (None, 84, 84, 16)        0         \n",
      "_________________________________________________________________\n",
      "dropout_3 (Dropout)          (None, 84, 84, 16)        0         \n",
      "_________________________________________________________________\n",
      "conv2d_7 (Conv2D)            (None, 84, 84, 32)        4640      \n",
      "_________________________________________________________________\n",
      "conv2d_8 (Conv2D)            (None, 84, 84, 32)        9248      \n",
      "_________________________________________________________________\n",
      "max_pooling2d_5 (MaxPooling2 (None, 28, 28, 32)        0         \n",
      "_________________________________________________________________\n",
      "dropout_4 (Dropout)          (None, 28, 28, 32)        0         \n",
      "_________________________________________________________________\n",
      "conv2d_9 (Conv2D)            (None, 28, 28, 64)        18496     \n",
      "_________________________________________________________________\n",
      "conv2d_10 (Conv2D)           (None, 28, 28, 64)        36928     \n",
      "_________________________________________________________________\n",
      "max_pooling2d_6 (MaxPooling2 (None, 9, 9, 64)          0         \n",
      "_________________________________________________________________\n",
      "flatten_2 (Flatten)          (None, 5184)              0         \n",
      "_________________________________________________________________\n",
      "dense_2 (Dense)              (None, 1)                 5185      \n",
      "=================================================================\n",
      "Total params: 74,945\n",
      "Trainable params: 74,945\n",
      "Non-trainable params: 0\n",
      "_________________________________________________________________\n"
     ]
    }
   ],
   "source": [
    "model.summary()"
   ]
  },
  {
   "cell_type": "markdown",
   "metadata": {},
   "source": [
    "## Import"
   ]
  },
  {
   "cell_type": "code",
   "execution_count": 1,
   "metadata": {},
   "outputs": [
    {
     "name": "stderr",
     "output_type": "stream",
     "text": [
      "Using TensorFlow backend.\n"
     ]
    }
   ],
   "source": [
    "import pandas as pd\n",
    "import numpy as np\n",
    "import pickle\n",
    "import seaborn as sns\n",
    "\n",
    "import os\n",
    "import sys\n",
    "import warnings\n",
    "warnings.filterwarnings('ignore')\n",
    "#!{sys.executable} -m pip install opencv-python\n",
    "\n",
    "import time\n",
    "import itertools\n",
    "\n",
    "import matplotlib.pyplot as plt\n",
    "%matplotlib inline\n",
    "\n",
    "import tensorflow as tf\n",
    "from tensorflow import keras\n",
    "\n",
    "import scipy\n",
    "from PIL import Image\n",
    "from scipy import ndimage\n",
    "\n",
    "import tensorflow as tf\n",
    "from tensorflow import keras\n",
    "from keras import layers\n",
    "from keras import models\n",
    "from keras import optimizers\n",
    "from keras import models\n",
    "from keras import layers\n",
    "import keras_metrics\n",
    "from keras.preprocessing.image import ImageDataGenerator, array_to_img, img_to_array, load_img\n",
    "\n",
    "from sklearn.model_selection import RandomizedSearchCV, cross_val_score, GridSearchCV, validation_curve \n",
    "from sklearn.ensemble import RandomForestClassifier\n",
    "from sklearn.datasets import make_classification\n",
    "from sklearn.metrics import classification_report, roc_auc_score\n",
    "from sklearn.metrics import confusion_matrix, r2_score, recall_score, precision_score, f1_score, accuracy_score\n",
    "from sklearn.model_selection import cross_val_score, GridSearchCV, validation_curve\n",
    "from sklearn.pipeline import make_pipeline\n",
    "#from tensorflow.keras import get_default_graph\n",
    "np.random.seed(123)"
   ]
  },
  {
   "cell_type": "markdown",
   "metadata": {},
   "source": [
    "## Model Prep"
   ]
  },
  {
   "cell_type": "code",
   "execution_count": 20,
   "metadata": {},
   "outputs": [],
   "source": [
    "#confusion matrix code\n",
    "def plot_confusion_matrix(cm, classes,\n",
    "                          normalize=False,\n",
    "                          title='Confusion matrix',\n",
    "                          cmap=plt.cm.Blues):\n",
    "    \"\"\"\n",
    "    This function prints and plots the confusion matrix.\n",
    "    Normalization can be applied by setting `normalize=True`.\n",
    "    \"\"\"\n",
    "    if normalize:\n",
    "        cm = cm.astype('float') / cm.sum(axis=1)[:, np.newaxis]\n",
    "        print(\"Normalized confusion matrix\")\n",
    "    else:\n",
    "        print('Confusion Matrix, without normalization')\n",
    "\n",
    "    print(cm)\n",
    "\n",
    "    plt.imshow(cm, interpolation='nearest', cmap=cmap)\n",
    "    plt.title(title)\n",
    "    plt.colorbar()\n",
    "    tick_marks = np.arange(len(classes))\n",
    "    plt.xticks(tick_marks, classes, rotation=45)\n",
    "    plt.yticks(tick_marks, classes)\n",
    "\n",
    "    fmt = '.2f' if normalize else 'd'\n",
    "    thresh = cm.max() / 1\n",
    "    for i, j in itertools.product(range(cm.shape[0]), range(cm.shape[1])):\n",
    "        plt.text(j, i, format(cm[i, j], fmt),\n",
    "                 horizontalalignment=\"center\",\n",
    "                 color=\"white\" if cm[i, j] > thresh else \"black\")\n",
    "    plt.tight_layout()\n",
    "    plt.ylabel('True label')\n",
    "    plt.xlabel('Predicted label')"
   ]
  },
  {
   "cell_type": "code",
   "execution_count": 21,
   "metadata": {},
   "outputs": [],
   "source": [
    "#define data path\n",
    "test_folder = 'Data/test'\n",
    "train_folder = 'data/train'\n",
    "val_folder = 'data/val'"
   ]
  },
  {
   "cell_type": "markdown",
   "metadata": {},
   "source": []
  },
  {
   "cell_type": "code",
   "execution_count": 7,
   "metadata": {},
   "outputs": [],
   "source": [
    "# Prep data for processing\n",
    "test_generator = ImageDataGenerator(rescale=1./255).flow_from_directory(\n",
    "        test_folder, \n",
    "        target_size=(256,256), batch_size = 627) \n",
    "\n",
    "val_generator = ImageDataGenerator(rescale=1./255).flow_from_directory(\n",
    "        val_folder, \n",
    "        target_size=(256,256), batch_size = 19)\n",
    "\n",
    "train_generator = ImageDataGenerator(rescale=1./255).flow_from_directory(\n",
    "        train_folder, \n",
    "        target_size=(256,256), batch_size=5219)\n",
    "\n",
    "train_images, train_labels = next(train_generator)\n",
    "test_images, test_labels = next(test_generator)\n",
    "val_images, val_labels = next(val_generator)\n",
    "\n",
    "train_img = train_images.reshape(train_images.shape[0], -1)\n",
    "test_img = test_images.reshape(test_images.shape[0], -1)\n",
    "val_img = val_images.reshape(val_images.shape[0], -1)\n",
    "\n",
    "train_y = np.reshape(train_labels[:,0], (5216,1))\n",
    "test_y = np.reshape(test_labels[:,0], (624,1))\n",
    "val_y = np.reshape(val_labels[:,0], (16,1))"
   ]
  },
  {
   "cell_type": "code",
   "execution_count": 42,
   "metadata": {},
   "outputs": [
    {
     "data": {
      "text/plain": [
       "624"
      ]
     },
     "execution_count": 42,
     "metadata": {},
     "output_type": "execute_result"
    }
   ],
   "source": [
    "len(test_images)"
   ]
  },
  {
   "cell_type": "markdown",
   "metadata": {},
   "source": [
    "## Model"
   ]
  },
  {
   "cell_type": "code",
   "execution_count": 19,
   "metadata": {},
   "outputs": [
    {
     "name": "stdout",
     "output_type": "stream",
     "text": [
      "tracking <tf.Variable 'Variable_2:0' shape=() dtype=int32> tp\n",
      "tracking <tf.Variable 'Variable_3:0' shape=() dtype=int32> fn\n",
      "Model: \"sequential_2\"\n",
      "_________________________________________________________________\n",
      "Layer (type)                 Output Shape              Param #   \n",
      "=================================================================\n",
      "conv2d_6 (Conv2D)            (None, 254, 254, 16)      448       \n",
      "_________________________________________________________________\n",
      "max_pooling2d_4 (MaxPooling2 (None, 84, 84, 16)        0         \n",
      "_________________________________________________________________\n",
      "dropout_3 (Dropout)          (None, 84, 84, 16)        0         \n",
      "_________________________________________________________________\n",
      "conv2d_7 (Conv2D)            (None, 84, 84, 32)        4640      \n",
      "_________________________________________________________________\n",
      "conv2d_8 (Conv2D)            (None, 84, 84, 32)        9248      \n",
      "_________________________________________________________________\n",
      "max_pooling2d_5 (MaxPooling2 (None, 28, 28, 32)        0         \n",
      "_________________________________________________________________\n",
      "dropout_4 (Dropout)          (None, 28, 28, 32)        0         \n",
      "_________________________________________________________________\n",
      "conv2d_9 (Conv2D)            (None, 28, 28, 64)        18496     \n",
      "_________________________________________________________________\n",
      "conv2d_10 (Conv2D)           (None, 28, 28, 64)        36928     \n",
      "_________________________________________________________________\n",
      "max_pooling2d_6 (MaxPooling2 (None, 9, 9, 64)          0         \n",
      "_________________________________________________________________\n",
      "flatten_2 (Flatten)          (None, 5184)              0         \n",
      "_________________________________________________________________\n",
      "dense_2 (Dense)              (None, 1)                 5185      \n",
      "=================================================================\n",
      "Total params: 74,945\n",
      "Trainable params: 74,945\n",
      "Non-trainable params: 0\n",
      "_________________________________________________________________\n"
     ]
    }
   ],
   "source": [
    "model = models.Sequential()\n",
    "\n",
    "model.add(layers.Conv2D(16, (3, 3), activation='relu',\n",
    "                        input_shape=(256 ,256,  3)))\n",
    "model.add(layers.MaxPooling2D((3, 3)))\n",
    "model.add(layers.Dropout(0.05))  \n",
    "\n",
    "model.add(layers.Conv2D(32, (3, 3), activation='relu', padding=\"same\"))\n",
    "model.add(layers.Conv2D(32, (3, 3), activation='relu', padding=\"same\"))\n",
    "model.add(layers.MaxPooling2D((3, 3)))\n",
    "model.add(layers.Dropout(0.05))  \n",
    "\n",
    "model.add(layers.Conv2D(64, (3, 3), activation='relu', padding=\"same\"))\n",
    "model.add(layers.Conv2D(64, (3, 3), activation='relu', padding=\"same\"))\n",
    "model.add(layers.MaxPooling2D((3, 3)))\n",
    "#model.add(layers.Dropout(0.0025)) \n",
    "\n",
    "model.add(layers.Flatten())\n",
    "model.add(layers.Dense(1, activation='sigmoid'))\n",
    "\n",
    "\n",
    "# model.add(layers.Flatten())\n",
    "\n",
    "# model.add(layers.Dense(64, activation='relu'))\n",
    "# #model.add(layers.Dropout(0.4))\n",
    "# model.add(layers.Dense(2 , activation='softmax'))\n",
    "\n",
    "model.compile(loss='binary_crossentropy',\n",
    "              optimizer='adam',\n",
    "              metrics=['acc',keras_metrics.recall()])\n",
    "model.summary()"
   ]
  },
  {
   "cell_type": "code",
   "execution_count": 31,
   "metadata": {},
   "outputs": [
    {
     "name": "stdout",
     "output_type": "stream",
     "text": [
      "Train on 4694 samples, validate on 522 samples\n",
      "Epoch 1/7\n",
      "4694/4694 [==============================] - 133s 28ms/step - loss: 0.3356 - acc: 0.8479 - recall: 0.3082 - val_loss: 0.1176 - val_acc: 0.9559 - val_recall: 0.9290\n",
      "Epoch 2/7\n",
      "4694/4694 [==============================] - 123s 26ms/step - loss: 0.1163 - acc: 0.9589 - recall: 0.9076 - val_loss: 0.0785 - val_acc: 0.9636 - val_recall: 0.8889\n",
      "Epoch 3/7\n",
      "4694/4694 [==============================] - 127s 27ms/step - loss: 0.0891 - acc: 0.9687 - recall: 0.9490 - val_loss: 0.0722 - val_acc: 0.9674 - val_recall: 0.8835\n",
      "Epoch 4/7\n",
      "4694/4694 [==============================] - 122s 26ms/step - loss: 0.0769 - acc: 0.9700 - recall: 0.9324 - val_loss: 0.0685 - val_acc: 0.9732 - val_recall: 0.9346\n",
      "Epoch 5/7\n",
      "4694/4694 [==============================] - 122s 26ms/step - loss: 0.0690 - acc: 0.9742 - recall: 0.9492 - val_loss: 0.0803 - val_acc: 0.9713 - val_recall: 0.9414\n",
      "Epoch 6/7\n",
      "4694/4694 [==============================] - 130s 28ms/step - loss: 0.0588 - acc: 0.9785 - recall: 0.9631 - val_loss: 0.0653 - val_acc: 0.9808 - val_recall: 0.9203\n",
      "Epoch 7/7\n",
      "4694/4694 [==============================] - 142s 30ms/step - loss: 0.0577 - acc: 0.9798 - recall: 0.9611 - val_loss: 0.0560 - val_acc: 0.9770 - val_recall: 0.9238\n"
     ]
    }
   ],
   "source": [
    "history = model.fit(train_images,\n",
    "                    train_y,\n",
    "                    epochs=7,\n",
    "                    batch_size=32,\n",
    "                    validation_split= 0.1,\n",
    "                    #validation_data=(val_images, val_y)\n",
    "                    verbose=1)"
   ]
  },
  {
   "cell_type": "code",
   "execution_count": 32,
   "metadata": {},
   "outputs": [
    {
     "name": "stdout",
     "output_type": "stream",
     "text": [
      "5216/5216 [==============================] - 56s 11ms/step\n",
      "16/16 [==============================] - 0s 19ms/step\n"
     ]
    }
   ],
   "source": [
    "results_train = model.evaluate(train_images, train_y)\n",
    "results_test = model.evaluate(val_images, val_y)"
   ]
  },
  {
   "cell_type": "code",
   "execution_count": 33,
   "metadata": {},
   "outputs": [
    {
     "data": {
      "text/plain": [
       "[0.03979605585629509, 0.9838957190513611, 0.997648298740387]"
      ]
     },
     "execution_count": 33,
     "metadata": {},
     "output_type": "execute_result"
    }
   ],
   "source": [
    "results_train"
   ]
  },
  {
   "cell_type": "code",
   "execution_count": 34,
   "metadata": {},
   "outputs": [
    {
     "data": {
      "text/plain": [
       "[0.11767389625310898, 0.9375, 0.875]"
      ]
     },
     "execution_count": 34,
     "metadata": {},
     "output_type": "execute_result"
    }
   ],
   "source": [
    "results_test"
   ]
  },
  {
   "cell_type": "code",
   "execution_count": 46,
   "metadata": {},
   "outputs": [
    {
     "name": "stdout",
     "output_type": "stream",
     "text": [
      "Confusion Matrix, without normalization\n",
      "[[8 0]\n",
      " [1 7]]\n",
      "              precision    recall  f1-score   support\n",
      "\n",
      "         0.0       0.89      1.00      0.94         8\n",
      "         1.0       1.00      0.88      0.93         8\n",
      "\n",
      "    accuracy                           0.94        16\n",
      "   macro avg       0.94      0.94      0.94        16\n",
      "weighted avg       0.94      0.94      0.94        16\n",
      "\n",
      "roc_auc_score: 0.9375\n"
     ]
    },
    {
     "data": {
      "image/png": "[encoded data removed]",
      "text/plain": [
       "<Figure size 432x288 with 2 Axes>"
      ]
     },
     "metadata": {
      "needs_background": "light"
     },
     "output_type": "display_data"
    }
   ],
   "source": [
    "y_pred = model.predict_classes(val_images)\n",
    "\n",
    "cm = confusion_matrix(val_y, y_pred)\n",
    "classes = ['Negative', 'Positive']\n",
    "\n",
    "plot_confusion_matrix(cm, classes,\n",
    "                      normalize=False,\n",
    "                      title='Confusion matrix'\n",
    "                     )\n",
    "plt.figsize=(10,10)\n",
    "plt.savefig('Images/conf.png')\n",
    "#Checking performance our model with classification report.\n",
    "print(classification_report(val_y, y_pred))\n",
    "#Checking performance our model with ROC Score.\n",
    "print ('roc_auc_score:', roc_auc_score(val_y, y_pred))"
   ]
  },
  {
   "cell_type": "code",
   "execution_count": null,
   "metadata": {},
   "outputs": [],
   "source": []
  }
 ],
 "metadata": {
  "kernelspec": {
   "display_name": "Python [conda env:learn-env] *",
   "language": "python",
   "name": "conda-env-learn-env-py"
  },
  "language_info": {
   "codemirror_mode": {
    "name": "ipython",
    "version": 3
   },
   "file_extension": ".py",
   "mimetype": "text/x-python",
   "name": "python",
   "nbconvert_exporter": "python",
   "pygments_lexer": "ipython3",
   "version": "3.6.9"
  }
 },
 "nbformat": 4,
 "nbformat_minor": 4
}
